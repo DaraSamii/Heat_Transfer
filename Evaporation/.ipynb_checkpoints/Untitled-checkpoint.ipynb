{
 "cells": [
  {
   "cell_type": "code",
   "execution_count": 10,
   "metadata": {},
   "outputs": [],
   "source": [
    "#exports\n",
    "import numpy as np\n",
    "import matplotlib.pyplot as plt\n",
    "from scipy.optimize import root"
   ]
  },
  {
   "cell_type": "markdown",
   "metadata": {},
   "source": [
    "<h1>جوشش هسته‌ای</h1>"
   ]
  },
  {
   "cell_type": "markdown",
   "metadata": {},
   "source": [
    "$\\Large q_s'' = \\mu_l  h_{fg} (\\frac{g(\\rho_l - \\rho_g)}{\\sigma})^\\frac{1}{2}(\\frac{c_{p,l} \\Delta T_e}{C_{s,f} h_{fg} Pr_l^n})^3 $"
   ]
  },
  {
   "cell_type": "code",
   "execution_count": 2,
   "metadata": {},
   "outputs": [],
   "source": [
    "#export\n",
    "def Nucliate_boiling(mu_l, hfg,rho_l, rho_g, sigma,c_pl, Tsat, Ts, Csf, Pr, n):\n",
    "    g= 9.81\n",
    "    term1 = mu_l * hfg\n",
    "    \n",
    "    term2 = np.sqrt(g * (rho_l - rho_g) / sigma)\n",
    "    \n",
    "    term3 = np.power((c_pl * (Ts - Tsat))/(Csf * hfg * np.power(Pr,n)),3)\n",
    "    \n",
    "    return term1 * term2 * term3"
   ]
  },
  {
   "cell_type": "code",
   "execution_count": 119,
   "metadata": {},
   "outputs": [],
   "source": [
    "#test\n",
    "mu_l = 279e-6\n",
    "\n",
    "hfg = 2257e3\n",
    "\n",
    "rho_l = 957.9\n",
    "\n",
    "rho_g = 0.5955\n",
    "\n",
    "sigma = 58.9e-3\n",
    "\n",
    "c_pl = 42.7\n",
    "\n",
    "Tsat = 100\n",
    "\n",
    "Ts = 110\n",
    "\n",
    "Csf = 0.013\n",
    "\n",
    "Pr = 1.76\n",
    "\n",
    "n = 1"
   ]
  },
  {
   "cell_type": "code",
   "execution_count": 120,
   "metadata": {},
   "outputs": [
    {
     "data": {
      "text/plain": [
       "0.1421538270880649"
      ]
     },
     "execution_count": 120,
     "metadata": {},
     "output_type": "execute_result"
    }
   ],
   "source": [
    "#test\n",
    "Nucliate_boiling(mu_l, hfg,rho_l, rho_g, sigma,c_pl, Tsat, Ts, Csf, Pr, n)"
   ]
  },
  {
   "cell_type": "markdown",
   "metadata": {},
   "source": [
    "$\\large q_{max}'' = C h_{fs} \\rho_v (\\frac{g\\sigma(\\rho_l - \\rho_g)}{\\rho_v^2})^ \\frac{1}{4}$"
   ]
  },
  {
   "cell_type": "code",
   "execution_count": 4,
   "metadata": {},
   "outputs": [],
   "source": [
    "def Nucliate_boiling_max(C, hfs, rho_v, rho_l, sigma):\n",
    "    g = 9.81\n",
    "    \n",
    "    term1 = C * hfs * rho_v\n",
    "     \n",
    "    term2 = np.power((g * sigma * (rho_l - rho_v))/(np.power(rho_v, 2)), 1/4)\n",
    "    \n",
    "    return term1 * term2"
   ]
  },
  {
   "cell_type": "markdown",
   "metadata": {},
   "source": [
    "$\\large q_{min}'' = C h_{fs} \\rho_v (\\frac{g\\sigma(\\rho_l - \\rho_g)}{(\\rho_v + \\rho_l)^2})^ \\frac{1}{4}$"
   ]
  },
  {
   "cell_type": "code",
   "execution_count": 5,
   "metadata": {},
   "outputs": [],
   "source": [
    "def Nucliate_boiling_min(C, hfs, rho_v, rho_l, sigma):\n",
    "    g = 9.81\n",
    "    \n",
    "    term1 = C * hfs * rho_v\n",
    "    \n",
    "    term2 = np.power((g * sigma * (rho_l - rho_v))/(np.power(rho_v + rho_l, 2)), 1/4)\n",
    "    \n",
    "    return term1 * term2"
   ]
  },
  {
   "cell_type": "markdown",
   "metadata": {},
   "source": [
    "$\\large h^\\prime_{fg} = h_{fg} + 0.8 c_{p,l} (T_s - T_{sat})$"
   ]
  },
  {
   "cell_type": "code",
   "execution_count": 90,
   "metadata": {},
   "outputs": [],
   "source": [
    "def h_prime(h, c_pl,T_s, T_sat):\n",
    "    return h + (0.8 * c_pl * abs(Ts - Tsat))"
   ]
  },
  {
   "cell_type": "markdown",
   "metadata": {},
   "source": [
    "# جوشش فیلمی"
   ]
  },
  {
   "cell_type": "markdown",
   "metadata": {},
   "source": [
    "$\\large \\bar{h}_{conv} = \\frac{C k_v}{D} (\\frac{g(\\rho_l - \\rho_g) h^\\prime_{fg} D^3}{\\nu_v k_v (T_s - T_{sat})})^\\frac{1}{4}$"
   ]
  },
  {
   "cell_type": "code",
   "execution_count": 91,
   "metadata": {},
   "outputs": [],
   "source": [
    "#export\n",
    "def filmi_h_conv(C, kv, D, rho_g, rho_l, h, c_pl, nu_v, Ts, Tsat):\n",
    "    g = 9.81\n",
    "    \n",
    "    term1 = C * kv / D\n",
    "    \n",
    "    hfg_prime = h_prime(h, c_pl, Ts, Tsat)\n",
    "    \n",
    "    term2 = g * (rho_l - rho_g) * hfg_prime * np.power(D, 3)\n",
    "    \n",
    "    term3 = nu_v * kv * (Ts - Tsat)\n",
    "    \n",
    "    return term1 * np.power((term2/ term3),1/4)"
   ]
  },
  {
   "cell_type": "code",
   "execution_count": 92,
   "metadata": {},
   "outputs": [],
   "source": [
    "#test\n",
    "C = 0.62\n",
    "\n",
    "kv = 54.9e-3\n",
    "\n",
    "D = 0.04\n",
    "\n",
    "rho_v = 0.4643\n",
    "\n",
    "rho_l = 957.9\n",
    "\n",
    "c_pl = 42.7\n",
    "\n",
    "nu_v = 76.73e-6\n",
    "\n",
    "Ts = 1227\n",
    "\n",
    "Tsat = 374\n",
    "\n",
    "h = 2257e3"
   ]
  },
  {
   "cell_type": "code",
   "execution_count": 93,
   "metadata": {},
   "outputs": [
    {
     "data": {
      "text/plain": [
       "119.00019750426358"
      ]
     },
     "execution_count": 93,
     "metadata": {},
     "output_type": "execute_result"
    }
   ],
   "source": [
    "#test\n",
    "filmi_h_conv(C, kv, D, rho_v, rho_l, h, c_pl, nu_v, Ts, Tsat)"
   ]
  },
  {
   "cell_type": "markdown",
   "metadata": {},
   "source": [
    "$ \\large \\bar{h}_{rad} = \\frac{\\epsilon \\sigma ( T_{s}^4 - T_{sat}^4 ) } {(T_{s} - T_{sat})}$"
   ]
  },
  {
   "cell_type": "code",
   "execution_count": 94,
   "metadata": {},
   "outputs": [],
   "source": [
    "#export\n",
    "def filmi_h_rad(epsilon, sigma, Ts, Tsat):\n",
    "    term1 = epsilon * sigma * (np.power(Ts,4) - np.power(Tsat,4))\n",
    "    \n",
    "    term2 = Ts - Tsat\n",
    "    \n",
    "    return term1 / term2"
   ]
  },
  {
   "cell_type": "code",
   "execution_count": 95,
   "metadata": {},
   "outputs": [],
   "source": [
    "#test\n",
    "epsilon = 0.95\n",
    "\n",
    "sigma = 58.9e-6\n",
    "\n",
    "Ts = 1227\n",
    "\n",
    "Tsat = 374"
   ]
  },
  {
   "cell_type": "code",
   "execution_count": 96,
   "metadata": {},
   "outputs": [
    {
     "data": {
      "text/plain": [
       "51.45358470390973"
      ]
     },
     "execution_count": 96,
     "metadata": {},
     "output_type": "execute_result"
    }
   ],
   "source": [
    "#test\n",
    "filmi_h_rad(epsilon, sigma, Ts, Tsat)"
   ]
  },
  {
   "cell_type": "markdown",
   "metadata": {},
   "source": [
    "$\\large \\bar{h} = \\bar{h}_{conv}^\\frac{1}{4} + \\bar{h}_{rad}.\\bar{h}^\\frac{1}{3} \\Longrightarrow Solve \\Longrightarrow \\bar{h} $"
   ]
  },
  {
   "cell_type": "code",
   "execution_count": 97,
   "metadata": {},
   "outputs": [],
   "source": [
    "#export\n",
    "def h_filmi(h_rad, h_conv):\n",
    "    \n",
    "    def eq(h):\n",
    "        return np.power(h_conv,4/3) + h_rad*np.power(h,1/3) - np.power(h,4/3) \n",
    "    \n",
    "    return float(root(eq, h_rad).x)"
   ]
  },
  {
   "cell_type": "code",
   "execution_count": 98,
   "metadata": {},
   "outputs": [],
   "source": [
    "#test\n",
    "h_rad = 135\n",
    "\n",
    "h_conv = 145"
   ]
  },
  {
   "cell_type": "code",
   "execution_count": 99,
   "metadata": {},
   "outputs": [
    {
     "data": {
      "text/plain": [
       "255.11055979288855"
      ]
     },
     "execution_count": 99,
     "metadata": {},
     "output_type": "execute_result"
    }
   ],
   "source": [
    "h_filmi(h_rad,h_conv)"
   ]
  },
  {
   "cell_type": "markdown",
   "metadata": {},
   "source": [
    "# چگالش"
   ]
  },
  {
   "cell_type": "markdown",
   "metadata": {},
   "source": [
    "$\\large \\delta(x) = [\\frac{4 k_l \\mu_l (T_{sat} - T_s) x}{g \\rho_l (\\rho_l - \\rho_g)h_{fg}}]^\\frac{1}{4}$"
   ]
  },
  {
   "cell_type": "code",
   "execution_count": 100,
   "metadata": {},
   "outputs": [],
   "source": [
    "#export\n",
    "def Condence_x(kl, mu_l, Tsat, Ts, x, rho_l, rho_g, hfg, c_pl, h):\n",
    "    \n",
    "    term1 = abs(4 * kl * mu_l * (Tsat - Ts) * x)\n",
    "\n",
    "    term2 = 9.81 * rho_l * (rho_l - rho_g) * h_prime(hfg,c_pl,Ts, Tsat)\n",
    "\n",
    "    return np.power((term1/ term2),0.25)"
   ]
  },
  {
   "cell_type": "code",
   "execution_count": 101,
   "metadata": {},
   "outputs": [],
   "source": [
    "#test\n",
    "kl = 677e-3\n",
    "\n",
    "mu_l = 11.69e-6\n",
    "\n",
    "Tsat = 80\n",
    "\n",
    "Ts = 100\n",
    "\n",
    "x=0.05\n",
    "\n",
    "rho_l = 957.9\n",
    "\n",
    "rho_g = 0.464\n",
    "\n",
    "hfg = 2278e3\n",
    "\n",
    "c_pl = 4209\n",
    "\n",
    "h = 2278e3"
   ]
  },
  {
   "cell_type": "code",
   "execution_count": 102,
   "metadata": {},
   "outputs": [
    {
     "data": {
      "text/plain": [
       "3.4997693350380274e-05"
      ]
     },
     "execution_count": 102,
     "metadata": {},
     "output_type": "execute_result"
    }
   ],
   "source": [
    "#test\n",
    "Condence_x(kl, mu_l, Tsat, Ts, x, rho_l, rho_g, hfg, c_pl, h)"
   ]
  },
  {
   "cell_type": "markdown",
   "metadata": {},
   "source": [
    "$\\large \\bar{h}_L = \\frac{C k_l}{L} [\\frac{g \\rho_l (\\rho_l - \\rho_g) h^\\prime_{fg} L^3}{\\mu_l k_l ( T_{sat} - T_{s} )}]^\\frac{1}{4}$"
   ]
  },
  {
   "cell_type": "code",
   "execution_count": 112,
   "metadata": {},
   "outputs": [],
   "source": [
    "def Condence_h(C , kl, L, rho_l, rho_g, hfg, mu_l, Tsat, Ts, cpl, h):\n",
    "    term1 = C * kl / L\n",
    "    \n",
    "    term2 = 9.81 * rho_l * ( rho_l - rho_g) *  h_prime(h,cpl, Ts, Tsat) * np.power(L, 3)\n",
    "\n",
    "    term3 =mu_l * kl *( Ts -  Tsat) \n",
    "    \n",
    "    return term1 * np.power(( term2 / term3),1/4)"
   ]
  },
  {
   "cell_type": "code",
   "execution_count": 113,
   "metadata": {},
   "outputs": [],
   "source": [
    "#test\n",
    "kl = 677e-3\n",
    "\n",
    "mu_l = 11.69e-6\n",
    "\n",
    "Tsat = 80\n",
    "\n",
    "Ts = 100\n",
    "\n",
    "L=0.1\n",
    "\n",
    "rho_l = 957.9\n",
    "\n",
    "rho_g = 0.464\n",
    "\n",
    "hfg = 2278e3\n",
    "\n",
    "cpl = 4209\n",
    "\n",
    "h = 2278e3"
   ]
  },
  {
   "cell_type": "code",
   "execution_count": 114,
   "metadata": {},
   "outputs": [
    {
     "data": {
      "text/plain": [
       "14262.591235768356"
      ]
     },
     "execution_count": 114,
     "metadata": {},
     "output_type": "execute_result"
    }
   ],
   "source": [
    "Condence_h(C , kl, L, rho_l, rho_g, hfg, mu_l, Tsat, Ts, cpl, h)"
   ]
  },
  {
   "cell_type": "code",
   "execution_count": null,
   "metadata": {},
   "outputs": [],
   "source": []
  }
 ],
 "metadata": {
  "kernelspec": {
   "display_name": "Python 3",
   "language": "python",
   "name": "python3"
  },
  "language_info": {
   "codemirror_mode": {
    "name": "ipython",
    "version": 3
   },
   "file_extension": ".py",
   "mimetype": "text/x-python",
   "name": "python",
   "nbconvert_exporter": "python",
   "pygments_lexer": "ipython3",
   "version": "3.8.3"
  }
 },
 "nbformat": 4,
 "nbformat_minor": 4
}
